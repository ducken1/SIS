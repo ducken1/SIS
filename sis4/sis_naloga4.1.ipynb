{
 "cells": [
  {
   "cell_type": "code",
   "execution_count": 3,
   "metadata": {},
   "outputs": [],
   "source": [
    "import numpy as np\n"
   ]
  },
  {
   "cell_type": "code",
   "execution_count": 4,
   "metadata": {},
   "outputs": [],
   "source": [
    "def normaliziraj_vektorsko(vektor):\n",
    "    return vektor / np.max(np.abs(vektor))"
   ]
  },
  {
   "cell_type": "code",
   "execution_count": 5,
   "metadata": {},
   "outputs": [],
   "source": [
    "def konv_frekvenca_mono(signal, impulz):\n",
    "\n",
    "    X = np.fft.fft(signal, n=signal.shape[0]+impulz.shape[0]-1, axis=0)\n",
    "    H = np.fft.fft(impulz, n=signal.shape[0]+impulz.shape[0]-1, axis=0)\n",
    "\n",
    "    Y = X*H\n",
    "\n",
    "    dolzina = signal.shape[0] + impulz.shape[0] - 1\n",
    "\n",
    "    y2 = np.zeros((dolzina, 2))\n",
    "    # inverzna fourierova transformacija rekonstruira originalni signal \n",
    "    # pri tem je običajno potrebno vzeti samo realni del (tudi ta funkcija vrne kompleksna števila)\n",
    "    y2 = np.real(np.fft.ifft(Y, axis=0))\n",
    "    y2 = np.reshape(y2, (-1, 1))\n",
    "    y2 = normaliziraj_vektorsko(y2)\n",
    "    return y2\n"
   ]
  },
  {
   "cell_type": "code",
   "execution_count": 6,
   "metadata": {},
   "outputs": [],
   "source": [
    "def konv_frekvenca_stereo(signal, impulz):\n",
    "\n",
    "    X = np.fft.fft(signal, n=signal.shape[0]+impulz.shape[0]-1, axis=0)\n",
    "    H = np.fft.fft(impulz, n=signal.shape[0]+impulz.shape[0]-1, axis=0)\n",
    "\n",
    "    Y = X*H\n",
    "\n",
    "    dolzina = signal.shape[0] + impulz.shape[0] - 1\n",
    "\n",
    "    y2 = np.zeros((dolzina, 2))\n",
    "    # inverzna fourierova transformacija rekonstruira originalni signal \n",
    "    # pri tem je običajno potrebno vzeti samo realni del (tudi ta funkcija vrne kompleksna števila)\n",
    "    y2 = np.real(np.fft.ifft(Y, axis=0))\n",
    "    y2 = np.reshape(y2, (-1, 2))\n",
    "    y2 = normaliziraj_vektorsko(y2)\n",
    "    return y2"
   ]
  },
  {
   "cell_type": "code",
   "execution_count": 7,
   "metadata": {},
   "outputs": [
    {
     "name": "stdout",
     "output_type": "stream",
     "text": [
      "[0.1 0.2 0.3 0.4 0.5 0.6 0.7 0.8 0.9 1. ] \n",
      " \n",
      " [0.5 1.  0.5] \n",
      " \n",
      " [[0.02777778]\n",
      " [0.11111111]\n",
      " [0.22222222]\n",
      " [0.33333333]\n",
      " [0.44444444]\n",
      " [0.55555556]\n",
      " [0.66666667]\n",
      " [0.77777778]\n",
      " [0.88888889]\n",
      " [1.        ]\n",
      " [0.80555556]\n",
      " [0.27777778]]\n",
      "[[0.05 0.1 ]\n",
      " [0.15 0.2 ]\n",
      " [0.25 0.3 ]\n",
      " [0.35 0.4 ]\n",
      " [0.45 0.5 ]\n",
      " [0.55 0.6 ]\n",
      " [0.65 0.7 ]\n",
      " [0.75 0.8 ]\n",
      " [0.85 0.9 ]\n",
      " [0.95 1.  ]] \n",
      " \n",
      " [[0.5 1. ]\n",
      " [1.  0.5]\n",
      " [0.5 1. ]] \n",
      " \n",
      " [[0.01111111 0.04444444]\n",
      " [0.05555556 0.11111111]\n",
      " [0.13333333 0.22222222]\n",
      " [0.22222222 0.33333333]\n",
      " [0.31111111 0.44444444]\n",
      " [0.4        0.55555556]\n",
      " [0.48888889 0.66666667]\n",
      " [0.57777778 0.77777778]\n",
      " [0.66666667 0.88888889]\n",
      " [0.75555556 1.        ]\n",
      " [0.61111111 0.62222222]\n",
      " [0.21111111 0.44444444]]\n"
     ]
    }
   ],
   "source": [
    "if __name__ == '__main__':\n",
    "    x = np.array([1,2,3,4,5,6,7,8,9,10])\n",
    "    h = np.array([1,2,1])\n",
    "    x = normaliziraj_vektorsko(x)\n",
    "    h = normaliziraj_vektorsko(h)\n",
    "    a = konv_frekvenca_mono(x,h)\n",
    "\n",
    "    print(x,\"\\n\",\"\\n\", h, \"\\n\",\"\\n\", a)\n",
    "\n",
    "    x1 = np.array([[1,2], [3,4], [5,6], [7,8], [9,10], [11,12], [13,14], [15,16], [17,18], [19,20]])\n",
    "    h1 = np.array([[1,2],[2,1], [1,2]])\n",
    "    x1 = normaliziraj_vektorsko(x1)\n",
    "    h1 = normaliziraj_vektorsko(h1)\n",
    "    b = konv_frekvenca_stereo(x1,h1)\n",
    "\n",
    "    print(x1,\"\\n\",\"\\n\", h1, \"\\n\",\"\\n\", b)"
   ]
  }
 ],
 "metadata": {
  "interpreter": {
   "hash": "b4baa5c2e6f653e26f346260ae04e9b7ecf402738915ea713bb3b97830370387"
  },
  "kernelspec": {
   "display_name": "Python 3.9.12 64-bit (windows store)",
   "language": "python",
   "name": "python3"
  },
  "language_info": {
   "codemirror_mode": {
    "name": "ipython",
    "version": 3
   },
   "file_extension": ".py",
   "mimetype": "text/x-python",
   "name": "python",
   "nbconvert_exporter": "python",
   "pygments_lexer": "ipython3",
   "version": "3.9.12"
  },
  "orig_nbformat": 4
 },
 "nbformat": 4,
 "nbformat_minor": 2
}
