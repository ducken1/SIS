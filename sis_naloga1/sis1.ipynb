{
 "cells": [
  {
   "cell_type": "code",
   "execution_count": 321,
   "metadata": {},
   "outputs": [],
   "source": [
    "import numpy as np\n",
    "\n",
    "def generiraj_vektor_nakljucno(stevilo_vzorcev):\n",
    "    sampl = np.random.uniform(low=0.0, high=1.0, size=(stevilo_vzorcev,1))\n",
    "    return sampl\n"
   ]
  },
  {
   "cell_type": "code",
   "execution_count": 322,
   "metadata": {},
   "outputs": [],
   "source": [
    "def beri_zvok_mono(pot_do_datoteke):\n",
    "  from scipy.io import wavfile\n",
    "  Fs, y = wavfile.read(pot_do_datoteke)\n",
    "\n",
    "  if y.ndim == 1:\n",
    "    mono = y\n",
    "    mono = mono.reshape((mono.shape[0], 1))\n",
    "    norm = max(map(abs, mono))\n",
    "    return mono / norm\n",
    "\n",
    "  else:\n",
    "   # combined = np.concatenate((y))\n",
    "    #combined = np.zeros((int(y.size/2),1))\n",
    "\n",
    "    ##  combined[i] = (y[i][0]) \n",
    "#mono = y\n",
    "    #mono1 = y\n",
    "    #combined = np.concatenate((mono, mono1), axis=1)\n",
    "    combined = np.zeros((int(y.size/2),1))\n",
    "\n",
    "    for i in range(combined.size):\n",
    "      combined[i] = (y[i][0] + y[i][1]) / 2\n",
    "    \n",
    "    #combined = np.reshape(combined.size, 1)\n",
    "    norm = np.max(np.abs(combined))\n",
    "\n",
    "    #combined = np.concatenate([y,y])\n",
    "    #norm = np.max(np.abs(combined))\n",
    "    #combined = np.mean(y,axis=1)\n",
    "    #y = np.concatenate([y,y])\n",
    "   # y.reshape(int(y.size/2), 2)\n",
    "    #norm = np.linalg.norm(y)\n",
    "    #norm = max(map(abs, y))\n",
    "    return combined / norm\n"
   ]
  },
  {
   "cell_type": "code",
   "execution_count": 323,
   "metadata": {},
   "outputs": [
    {
     "data": {
      "text/plain": [
       "array([[ 2.93823243e-09],\n",
       "       [ 1.41995218e-01],\n",
       "       [ 2.81112896e-01],\n",
       "       ...,\n",
       "       [-4.14535093e-01],\n",
       "       [-2.81114236e-01],\n",
       "       [-1.41996605e-01]])"
      ]
     },
     "execution_count": 323,
     "metadata": {},
     "output_type": "execute_result"
    }
   ],
   "source": [
    "beri_zvok_mono(\"stereo2.wav\")"
   ]
  },
  {
   "cell_type": "code",
   "execution_count": 324,
   "metadata": {},
   "outputs": [],
   "source": [
    "def beri_zvok_stereo(pot_do_datoteke):\n",
    "    from scipy.io import wavfile\n",
    "    Fs, y = wavfile.read(pot_do_datoteke)\n",
    "\n",
    "\n",
    "    if y.ndim == 1:\n",
    "       # stereo = np.array(2*[y])\n",
    "        #stereo = y\n",
    "        #stereo = np.append(stereo, 2)\n",
    "        #stereo = np.array(y)\n",
    "        #stereo = stereo.reshape(2,-1)\n",
    "        #stereo = stereo.reshape((stereo.shape[0], 1))\n",
    "       # y = np.reshape((y.shape[0]), -1)\n",
    "        #y.reshape(int(y.size/2),1)\n",
    "        #y = 2*[y]\n",
    "        #stereo.reshape(int(stereo.size/2),1)\n",
    "        #stereo = np.tile(y,(2,1))\n",
    "       # stereo = y\n",
    "        #stereo = 2*[y]\n",
    "        #stereo.reshape(int(stereo.size),1)\n",
    "        stereo = np.zeros([y.size,2])\n",
    "\n",
    "        for i in range(y.size):\n",
    "            stereo[i][0] = y[i]\n",
    "            stereo[i][1] = y[i]\n",
    "\n",
    "        #stereo = np.stack((y,y))\n",
    "        norm = max(map(abs, y))\n",
    "        return stereo / norm\n",
    "         \n",
    "    else:\n",
    "        stereo = y\n",
    "        #norm = np.linalg.norm(stereo, 1)\n",
    "        #norm = np.max(np.abs(stereo))\n",
    "        return normaliziraj_vektorsko(stereo)\n",
    "        #return stereo / norm\n",
    "\n"
   ]
  },
  {
   "cell_type": "code",
   "execution_count": 325,
   "metadata": {},
   "outputs": [
    {
     "data": {
      "text/plain": [
       "array([[-1.00631875e-02, -1.00631875e-02],\n",
       "       [-1.09992979e-02, -1.09992979e-02],\n",
       "       [ 3.88485841e-03,  3.88485841e-03],\n",
       "       ...,\n",
       "       [-4.68055231e-05, -4.68055231e-05],\n",
       "       [ 4.68055231e-05,  4.68055231e-05],\n",
       "       [-9.36110461e-05, -9.36110461e-05]])"
      ]
     },
     "execution_count": 325,
     "metadata": {},
     "output_type": "execute_result"
    }
   ],
   "source": [
    "beri_zvok_stereo(\"churchbell.wav\")"
   ]
  },
  {
   "cell_type": "code",
   "execution_count": 326,
   "metadata": {},
   "outputs": [],
   "source": [
    "def normaliziraj(vektor):\n",
    "    #normalized_v = vektor / np.sqrt(np.sum(vektor**2))\n",
    "    norm = np.max(np.abs(vektor))\n",
    "    return vektor / norm\n",
    "    #return normalized_v"
   ]
  },
  {
   "cell_type": "code",
   "execution_count": 327,
   "metadata": {},
   "outputs": [],
   "source": [
    "def normaliziraj_vektorsko(vektor):\n",
    "    return vektor / np.max(np.abs(vektor))"
   ]
  },
  {
   "cell_type": "code",
   "execution_count": 328,
   "metadata": {},
   "outputs": [],
   "source": [
    "import timeit\n",
    "\n",
    "def testiraj_cas_izvajanja(vektor):\n",
    "    \n",
    "    starttime = timeit.default_timer()\n",
    "    #print(\"Čas začetka je: \", starttime)\n",
    "    normaliziraj(vektor)\n",
    "    time = timeit.default_timer() - starttime\n",
    "    #time1 = (timeit.default_timer() - starttime)\n",
    "\n",
    "    starttime2 = timeit.default_timer()\n",
    "    #print(\"Čas drugega začetka je: \", starttime2)\n",
    "    normaliziraj_vektorsko(vektor)\n",
    "    time2 = timeit.default_timer() - starttime2\n",
    "    #print(\"Čas drugega izvajanja je:\", timeit.default_timer() - starttime)\n",
    "    #time2 = (timeit.default_timer() - starttime2)\n",
    "    result = np.array([\n",
    "        [time, time2]\n",
    " ])\n",
    "    return result\n",
    "    \n",
    "    "
   ]
  },
  {
   "cell_type": "code",
   "execution_count": 329,
   "metadata": {},
   "outputs": [
    {
     "data": {
      "text/plain": [
       "array([1.        , 0.90618466, 0.03263853, 0.00109919, 0.07735495,\n",
       "       0.56582696, 0.4623104 , 0.1211963 , 0.22347264, 0.82226997])"
      ]
     },
     "execution_count": 329,
     "metadata": {},
     "output_type": "execute_result"
    }
   ],
   "source": [
    "#generiraj_vektor_nakljucno(5)\n",
    "#beri_zvok_mono(\"churchbell.wav\")\n",
    "\n",
    "#beri_zvok_stereo(\"churchbell.wav\")\n",
    "\n",
    "v = np.random.rand(10)\n",
    "#normaliziraj(v)\n",
    "normaliziraj_vektorsko(v)\n",
    "#testiraj_cas_izvajanja(v)"
   ]
  },
  {
   "cell_type": "code",
   "execution_count": 330,
   "metadata": {},
   "outputs": [
    {
     "name": "stdout",
     "output_type": "stream",
     "text": [
      "[[3.85000001e-05 1.15000000e-05]]\n"
     ]
    }
   ],
   "source": [
    "if __name__ == '__main__':\n",
    "    v = np.random.rand(10)\n",
    "    print(testiraj_cas_izvajanja(v))"
   ]
  }
 ],
 "metadata": {
  "interpreter": {
   "hash": "eb663f534262cfcdc3db2b440a990cbbb0b5170af9e51531e470ee1276955e61"
  },
  "kernelspec": {
   "display_name": "Python 3.10.2 64-bit",
   "language": "python",
   "name": "python3"
  },
  "language_info": {
   "codemirror_mode": {
    "name": "ipython",
    "version": 3
   },
   "file_extension": ".py",
   "mimetype": "text/x-python",
   "name": "python",
   "nbconvert_exporter": "python",
   "pygments_lexer": "ipython3",
   "version": "3.9.10"
  },
  "orig_nbformat": 4
 },
 "nbformat": 4,
 "nbformat_minor": 2
}
