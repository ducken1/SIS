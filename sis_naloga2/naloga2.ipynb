{
 "cells": [
  {
   "cell_type": "code",
   "execution_count": 31,
   "metadata": {},
   "outputs": [],
   "source": [
    "import numpy as np"
   ]
  },
  {
   "cell_type": "code",
   "execution_count": null,
   "metadata": {},
   "outputs": [],
   "source": [
    "def generiraj_ton_mono(cas, vzorcevalna_frekvenca, bitna_locljivost, frekvenca_tona):\n",
    "    MAX = (pow(2, bitna_locljivost) / 2 - 1)\n",
    "    MIN = (pow(2, bitna_locljivost) /2 )\n",
    "\n",
    "    if isinstance(MAX, np.int8) & isinstance(MIN, np.uint8):\n",
    "        type = 'int8'\n",
    "    elif isinstance(MAX, np.int16) & isinstance(MIN, np.uint16):\n",
    "        type = 'int16'\n",
    "    elif isinstance(MAX, np.int32) & isinstance(MIN, np.uint32):\n",
    "        type = 'int32'\n",
    "    else:\n",
    "        type = 'int64'\n",
    "\n",
    "    t = np.arange(0, cas * vzorcevalna_frekvenca, 1, dtype=type) / vzorcevalna_frekvenca # vektor časovnih indeksov\n",
    "\n",
    "    s1 = np.sin(2 * np.pi * frekvenca_tona * t)\n",
    "\n",
    "    s1 *= MAX\n",
    "\n",
    "    signal = np.zeros((len(s1), 1))\n",
    "\n",
    "    i = 0\n",
    "    while i < len(s1):\n",
    "        signal[i] = s1[i]\n",
    "        i += 1\n",
    "\n",
    "\n",
    "\n",
    "    return signal"
   ]
  },
  {
   "cell_type": "code",
   "execution_count": 32,
   "metadata": {},
   "outputs": [
    {
     "data": {
      "text/plain": [
       "array([[ 0.        ],\n",
       "       [ 0.09047216],\n",
       "       [ 0.18094428],\n",
       "       ...,\n",
       "       [-0.2714163 ],\n",
       "       [-0.18094428],\n",
       "       [-0.09047216]])"
      ]
     },
     "execution_count": 32,
     "metadata": {},
     "output_type": "execute_result"
    }
   ],
   "source": [
    "generiraj_ton_mono(1, 44100, 8, 5)"
   ]
  },
  {
   "cell_type": "code",
   "execution_count": 33,
   "metadata": {},
   "outputs": [
    {
     "name": "stdout",
     "output_type": "stream",
     "text": [
      "[[ 0.00000000e+00]\n",
      " [ 1.55530143e-14]\n",
      " [-3.11060287e-14]\n",
      " [ 4.66590430e-14]\n",
      " [-6.22120574e-14]\n",
      " [ 7.77650717e-14]\n",
      " [-9.33180861e-14]\n",
      " [ 1.08871100e-13]\n",
      " [-1.24424115e-13]\n",
      " [ 1.39977129e-13]]\n"
     ]
    }
   ],
   "source": [
    "if __name__ == '__main__':\n",
    "    print(generiraj_ton_mono(1, 10, 8, 5))"
   ]
  }
 ],
 "metadata": {
  "interpreter": {
   "hash": "b4baa5c2e6f653e26f346260ae04e9b7ecf402738915ea713bb3b97830370387"
  },
  "kernelspec": {
   "display_name": "Python 3.9.10 64-bit (windows store)",
   "language": "python",
   "name": "python3"
  },
  "language_info": {
   "codemirror_mode": {
    "name": "ipython",
    "version": 3
   },
   "file_extension": ".py",
   "mimetype": "text/x-python",
   "name": "python",
   "nbconvert_exporter": "python",
   "pygments_lexer": "ipython3",
   "version": "3.9.10"
  },
  "orig_nbformat": 4
 },
 "nbformat": 4,
 "nbformat_minor": 2
}
