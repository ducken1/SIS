{
 "cells": [
  {
   "cell_type": "code",
   "execution_count": 26,
   "metadata": {},
   "outputs": [],
   "source": [
    "import sounddevice as sd\n",
    "from scipy.io import wavfile\n",
    "import numpy as np\n",
    "\n",
    "def normaliziraj_vektorsko(vektor):\n",
    "    return vektor / np.max(np.abs(vektor))\n",
    "\n",
    "Fvz, posnetek = wavfile.read(\"signal.wav\")\n",
    "posnetek = normaliziraj_vektorsko(posnetek)\n",
    "\n",
    "Fvz_i, h = wavfile.read(\"efekt3.wav\")\n",
    "h = normaliziraj_vektorsko(h)\n",
    "\n",
    "\n",
    "\n",
    "efekt = np.zeros((posnetek.shape[0] + h.shape[0]-1, ))\n",
    "posnetekNorm = posnetek #* np.linalg.norm(posnetek)\n",
    "\n",
    "efekt[:, ] = np.convolve(posnetekNorm[:, ], h[:, ])\n",
    "\n",
    "sd.play(efekt, 44100)\n",
    "\n",
    "wavfile.write(\"rezultat3.wav\",44100, efekt)"
   ]
  }
 ],
 "metadata": {
  "interpreter": {
   "hash": "b4baa5c2e6f653e26f346260ae04e9b7ecf402738915ea713bb3b97830370387"
  },
  "kernelspec": {
   "display_name": "Python 3.9.12 64-bit (windows store)",
   "language": "python",
   "name": "python3"
  },
  "language_info": {
   "codemirror_mode": {
    "name": "ipython",
    "version": 3
   },
   "file_extension": ".py",
   "mimetype": "text/x-python",
   "name": "python",
   "nbconvert_exporter": "python",
   "pygments_lexer": "ipython3",
   "version": "3.9.12"
  },
  "orig_nbformat": 4
 },
 "nbformat": 4,
 "nbformat_minor": 2
}
