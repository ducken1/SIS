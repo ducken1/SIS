{
 "cells": [
  {
   "cell_type": "code",
   "execution_count": 6,
   "metadata": {},
   "outputs": [],
   "source": [
    "import numpy as np  \n",
    "import scipy as sp  \n",
    "from scipy.io.wavfile import read  \n",
    "from scipy.io.wavfile import write     \n",
    "from scipy import signal  \n",
    "\n",
    "\n",
    "(Fvz, array) = read('input.wav')  \n",
    "\n",
    "b,a = signal.butter(5, 1000/(Fvz/2), btype='highpass')  \n",
    "\n",
    "filteredSignal = signal.lfilter(b, a, array)  \n",
    "\n",
    "c,d = signal.butter(5, 380/(Fvz/2), btype='lowpass') # ButterWorth low-filter  \n",
    "\n",
    "newFilteredSignal = signal.lfilter(c,d,filteredSignal) # Applying the filter to the signal  \n",
    "\n",
    "write(\"zvonjenje.wav\", Fvz, np.int16(newFilteredSignal/np.max(np.abs(newFilteredSignal)) * 32767))\n"
   ]
  }
 ],
 "metadata": {
  "interpreter": {
   "hash": "e8f003d250d7ad7860743224ff6ba332a57a1560fb729326247872468098481a"
  },
  "kernelspec": {
   "display_name": "Python 3.9.12 64-bit (windows store)",
   "language": "python",
   "name": "python3"
  },
  "language_info": {
   "codemirror_mode": {
    "name": "ipython",
    "version": 3
   },
   "file_extension": ".py",
   "mimetype": "text/x-python",
   "name": "python",
   "nbconvert_exporter": "python",
   "pygments_lexer": "ipython3",
   "version": "3.9.12"
  },
  "orig_nbformat": 4
 },
 "nbformat": 4,
 "nbformat_minor": 2
}
