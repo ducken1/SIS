{
 "cells": [
  {
   "cell_type": "code",
   "execution_count": 13,
   "metadata": {},
   "outputs": [
    {
     "ename": "ModuleNotFoundError",
     "evalue": "No module named 'torch'",
     "output_type": "error",
     "traceback": [
      "\u001b[1;31m---------------------------------------------------------------------------\u001b[0m",
      "\u001b[1;31mModuleNotFoundError\u001b[0m                       Traceback (most recent call last)",
      "\u001b[1;32m~\\AppData\\Local\\Temp\\ipykernel_7480\\3390982276.py\u001b[0m in \u001b[0;36m<module>\u001b[1;34m\u001b[0m\n\u001b[0;32m      1\u001b[0m \u001b[1;32mimport\u001b[0m \u001b[0mnumpy\u001b[0m \u001b[1;32mas\u001b[0m \u001b[0mnp\u001b[0m\u001b[1;33m\u001b[0m\u001b[1;33m\u001b[0m\u001b[0m\n\u001b[1;32m----> 2\u001b[1;33m \u001b[1;32mimport\u001b[0m \u001b[0mtorch\u001b[0m\u001b[1;33m\u001b[0m\u001b[1;33m\u001b[0m\u001b[0m\n\u001b[0m",
      "\u001b[1;31mModuleNotFoundError\u001b[0m: No module named 'torch'"
     ]
    }
   ],
   "source": [
    "import numpy as np\n",
    "import torch"
   ]
  },
  {
   "cell_type": "code",
   "execution_count": null,
   "metadata": {},
   "outputs": [],
   "source": [
    "def normaliziraj_vektorsko(vektor):\n",
    "    return vektor / np.max(np.abs(vektor))"
   ]
  },
  {
   "cell_type": "code",
   "execution_count": null,
   "metadata": {},
   "outputs": [],
   "source": [
    "def has_len(obj):\n",
    "    return hasattr(obj, '__len__')"
   ]
  },
  {
   "cell_type": "code",
   "execution_count": null,
   "metadata": {},
   "outputs": [],
   "source": [
    "def avektor(n, a, filt_signal):\n",
    "    vsota = 0\n",
    "\n",
    "    if(has_len(a)):\n",
    "        for i in range(1, np.size(a)):\n",
    "            if(n - i >= 0):\n",
    "                vsota = vsota + (a[i] * filt_signal[n - i])\n",
    "    else:\n",
    "        return 0\n",
    "    return vsota"
   ]
  },
  {
   "cell_type": "code",
   "execution_count": null,
   "metadata": {},
   "outputs": [],
   "source": [
    "def bvektor(n, b, signal):\n",
    "    vsota = 0\n",
    "\n",
    "    for i in range(np.size(b)):\n",
    "        if(n - i >= 0):\n",
    "            vsota = vsota + (b[i] * signal[n - i])\n",
    "            \n",
    "    return vsota"
   ]
  },
  {
   "cell_type": "code",
   "execution_count": null,
   "metadata": {},
   "outputs": [],
   "source": [
    "def filtriraj_mono(signal, b, a):\n",
    "    filt_signal = np.zeros(len(signal))\n",
    "\n",
    "    if (has_len(a)):\n",
    "        koeficient = a[0]\n",
    "    else:\n",
    "        koeficient = a\n",
    "    \n",
    "    if (koeficient == 0):\n",
    "        koeficient = 1\n",
    "\n",
    "    for i in range(np.size(signal)):\n",
    "        filt_signal[i] = (bvektor(i, b, signal) - avektor(i, a, filt_signal)) / koeficient\n",
    "\n",
    "    filt_signal = np.reshape(-1, 1)\n",
    "    return filt_signal\n",
    "\n"
   ]
  },
  {
   "cell_type": "code",
   "execution_count": null,
   "metadata": {},
   "outputs": [],
   "source": [
    "def filtriraj_stereo(signal, b, a):\n",
    "    filt_signal = np.zeros(np.shape(signal))\n",
    "\n",
    "    if (has_len(a)):\n",
    "        koeficient = a[0]\n",
    "    else:\n",
    "        koeficient = a\n",
    "    \n",
    "    if (koeficient == 0):\n",
    "        koeficient = 1\n",
    "\n",
    "    for i in range(np.shape(signal[0])):\n",
    "        filt_signal[i, 0] = (bvektor(i, b, signal[:, 0]) - avektor(i, a, filt_signal[:, 0])) / koeficient #[:, 0] \"slicne\" array.. : vzame vse vrste,, ter 0 prvi stolpec\n",
    "        filt_signal[i, 1] = (bvektor(i, b, signal[:, 1]) - avektor(i, a, filt_signal[:, 1])) / koeficient\n",
    "\n",
    "    filt_signal = np.reshape(-1, 2)\n",
    "    return filt_signal"
   ]
  },
  {
   "cell_type": "code",
   "execution_count": null,
   "metadata": {},
   "outputs": [
    {
     "name": "stdout",
     "output_type": "stream",
     "text": [
      "Modul za filtriranje signala!\n"
     ]
    }
   ],
   "source": [
    "if __name__ == '__main__':\n",
    "    print(\"Modul za filtriranje signala!\")"
   ]
  }
 ],
 "metadata": {
  "interpreter": {
   "hash": "0c7c658573c1d2de4a309433393dbf56da177b054685f908bec24c3401258b98"
  },
  "kernelspec": {
   "display_name": "Python 3.7.3 64-bit",
   "language": "python",
   "name": "python3"
  },
  "language_info": {
   "codemirror_mode": {
    "name": "ipython",
    "version": 3
   },
   "file_extension": ".py",
   "mimetype": "text/x-python",
   "name": "python",
   "nbconvert_exporter": "python",
   "pygments_lexer": "ipython3",
   "version": "3.7.3"
  },
  "orig_nbformat": 4
 },
 "nbformat": 4,
 "nbformat_minor": 2
}
